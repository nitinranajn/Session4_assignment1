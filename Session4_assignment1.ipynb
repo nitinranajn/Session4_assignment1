{
 "cells": [
  {
   "cell_type": "markdown",
   "metadata": {},
   "source": [
    "1.1 Write a Python Program(with class concepts) to find the area of the triangle using the below\n",
    "formula.\n",
    "area = (s*(s-a)*(s-b)*(s-c)) ** 0.5\n",
    "Function to take the length of the sides of triangle from user should be defined in the parent\n",
    "class and function to calculate the area should be defined in subclass."
   ]
  },
  {
   "cell_type": "code",
   "execution_count": 61,
   "metadata": {},
   "outputs": [
    {
     "name": "stdout",
     "output_type": "stream",
     "text": [
      "Enter side1 of triangle2\n",
      "Enter side2 of triangle3\n",
      "Enter side3 of triangle4\n",
      "\n",
      "Area of circle= 2.904738\n"
     ]
    }
   ],
   "source": [
    "class triangle():\n",
    "    def __init__(self):\n",
    "        self.x = input(\"Enter side1 of triangle\")\n",
    "        self.y = input(\"Enter side2 of triangle\")\n",
    "        self.z = input(\"Enter side3 of triangle\")\n",
    "        \n",
    "class area_of_triangle(triangle):\n",
    "    def area(self):\n",
    "        a = int(self.x)\n",
    "        b = int(self.y)\n",
    "        c = int(self.z)\n",
    "        s= int (a+b+c)/2\n",
    "        A= ((s*(s-a)*(s-b)*(s-c)) ** 0.5)\n",
    "        print(\"\\nArea of circle= %f\" %A)\n",
    "    \n",
    "    \n",
    "\n",
    "      \n",
    "\n",
    "tri= area_of_triangle()  \n",
    "tri.area()\n"
   ]
  },
  {
   "cell_type": "markdown",
   "metadata": {},
   "source": [
    "1.2 Write a function filter_long_words() that takes a list of words and an integer n and returns\n",
    "the list of words that are longer than n."
   ]
  },
  {
   "cell_type": "code",
   "execution_count": 80,
   "metadata": {},
   "outputs": [
    {
     "name": "stdout",
     "output_type": "stream",
     "text": [
      "Please input the list of words: jhg, jhff, kgj\n",
      "Please input an integer: 2\n",
      "The list of words longer than the integer 2 is: [' jhff', ' kgj']\n"
     ]
    }
   ],
   "source": [
    "def filter_long_words(string,number):\n",
    "    word_list =[]\n",
    "    for i in range(len(string)):\n",
    "        if len(string[i]) > number+1:\n",
    "            word_list.append(string[i])\n",
    "\n",
    "    print(\"The list of words longer than the integer {} is: {}\" .format (number, word_list)) \n",
    "    \n",
    "\n",
    "def input_list():\n",
    "    words = input(\"Please input the list of words: \")\n",
    "    list1= words.split(\",\")\n",
    "\n",
    "    integer = int(input(\"Please input an integer: \"))\n",
    "\n",
    "    filter_long_words(list1,integer)\n",
    "\n",
    "   \n",
    "\n",
    "input_list()  "
   ]
  },
  {
   "cell_type": "markdown",
   "metadata": {},
   "source": [
    "2.1 Write a Python program using function concept that maps list of words into a list of integers\n",
    "representing the lengths of the corresponding words ."
   ]
  },
  {
   "cell_type": "code",
   "execution_count": 2,
   "metadata": {},
   "outputs": [
    {
     "name": "stdout",
     "output_type": "stream",
     "text": [
      "[3, 3, 5, 4, 4, 5]\n"
     ]
    }
   ],
   "source": [
    "\n",
    "Words_list = ['One','Two','Three','Four','Five', 'Seven']\n",
    "\n",
    "def map_words_len(Words):\n",
    "    Int_list = []\n",
    "    for i in range(len(Words)):\n",
    "        Int_list.append(len(Words[i]))\n",
    " \n",
    "    print(Int_list)\n",
    "        \n",
    "map_words_len(Words_list)"
   ]
  },
  {
   "cell_type": "markdown",
   "metadata": {},
   "source": [
    "2.2 Write a Python function which takes a character (i.e. a string of length 1) and returns True if\n",
    "it is a vowel, False otherwise."
   ]
  },
  {
   "cell_type": "code",
   "execution_count": 9,
   "metadata": {},
   "outputs": [
    {
     "name": "stdout",
     "output_type": "stream",
     "text": [
      "Please enter your value as single char\n",
      "A\n",
      "The character is Vowel so it is TRUE\n"
     ]
    }
   ],
   "source": [
    "def is_vowel():\n",
    "    char= input(\"Please enter your value as single char\\n\")\n",
    "    if len(char)==1:\n",
    "        if char in ('a', 'A', 'e', 'E', 'i','I','o','O','u','U'):\n",
    "            print(\"The character is Vowel so it is TRUE\")\n",
    "        else:\n",
    "            print(\"The character in not a Vowel, so it is FALSE\")\n",
    "    else:\n",
    "        print(\"Please enter single character\")\n",
    "        is_vowel()\n",
    "                \n",
    "        \n",
    "\n",
    "is_vowel()"
   ]
  },
  {
   "cell_type": "code",
   "execution_count": null,
   "metadata": {},
   "outputs": [],
   "source": []
  }
 ],
 "metadata": {
  "kernelspec": {
   "display_name": "Python 3",
   "language": "python",
   "name": "python3"
  },
  "language_info": {
   "codemirror_mode": {
    "name": "ipython",
    "version": 3
   },
   "file_extension": ".py",
   "mimetype": "text/x-python",
   "name": "python",
   "nbconvert_exporter": "python",
   "pygments_lexer": "ipython3",
   "version": "3.7.0"
  }
 },
 "nbformat": 4,
 "nbformat_minor": 2
}
